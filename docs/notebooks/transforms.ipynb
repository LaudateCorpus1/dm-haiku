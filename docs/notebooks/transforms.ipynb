{
  "cells": [
    {
      "cell_type": "code",
      "execution_count": null,
      "metadata": {
        "id": "wNenO7dPGFnw"
      },
      "outputs": [],
      "source": [
        "import haiku as hk\n",
        "import jax\n",
        "import jax.numpy as jnp"
      ]
    },
    {
      "cell_type": "markdown",
      "metadata": {
        "id": "p2am8ROJEtrS"
      },
      "source": [
        "# Limitations of using JAX transforms inside of networks\n",
        "\n",
        "\n"
      ]
    },
    {
      "cell_type": "markdown",
      "metadata": {
        "id": "FjsjyTnKGE3p"
      },
      "source": [
        "**TL;DR:** Using a JAX transform inside of a `hk.transform` is likely to transform a side effecting function, which will result in an `UnexpectedTracerError`. To get around this, either use [the Haiku versions of these JAX functions](https://dm-haiku.readthedocs.io/en/latest/api.html#jax-fundamentals), or use [lift](https://dm-haiku.readthedocs.io/en/latest/api.html#lift) to be able to nest multiple `hk.transform`s.\n",
        "\n",
        "Once a Haiku network has been transformed to a pure function using `hk.transform`, it's possible to freely combine it with any JAX transformations like `jax.jit`, `jax.grad`, `jax.scan` and so on.\n",
        "\n",
        "If you want to use JAX transformations **inside** of a `hk.transform` however, you need to be more possible. It's possible, but most functions inside of the `hk.transform` boundary are still side effecting, and cannot safely be transformed by JAX. \n",
        "This is a common cause of `UnexpectedTracerError`s in code using Haiku. These errors are an indication of using a JAX transform on a side effecting function  (for more information on this error, see https://jax.readthedocs.io/en/latest/_modules/jax/_src/errors.html#UnexpectedTracerError). \n",
        "\n",
        "An example with `jax.eval_shape`:\n"
      ]
    },
    {
      "cell_type": "code",
      "execution_count": null,
      "metadata": {
        "id": "zFvNDDHU5Mfs"
      },
      "outputs": [],
      "source": [
        "def net(x): # inside of a hk.transform this is still side-effecting\n",
        "  w = hk.get_parameter(\"w\", (2, 2), init=jnp.ones)\n",
        "  return w @ x\n",
        "\n",
        "def eval_shape_net(x):\n",
        "  output_shape = jax.eval_shape(net, x) # eval_shape on side-effecting function\n",
        "  return net(x)                         # UnexpectedTracerError!\n",
        "\n",
        "init, _ = hk.transform(eval_shape_net)\n",
        "init(jax.random.PRNGKey(666), jnp.ones((2, 2)))"
      ]
    },
    {
      "cell_type": "markdown",
      "metadata": {
        "id": "wrjEaIwvKBOm"
      },
      "source": [
        "The error points to `get_parameter`. This is the operation which makes `net` a side effecting function. The side effect in this case is the creation of a parameter, which is stored in the Haiku state. Similarly you would get an error using `next_rng_key()`.\n",
        "\n",
        "These examples use `jax.eval_shape`, but this would be true of any higher-order JAX function (eg. `jax.vmap`, `jax.scan`, \n",
        "`jax.while_loop`, ...)\n",
        "\n",
        "You could re-write the code above to create the parameter outside of the `eval_shape` transformation, making `net` a pure function by threading through the parameter explictly as an argument:"
      ]
    },
    {
      "cell_type": "code",
      "execution_count": null,
      "metadata": {
        "id": "IdFGvbfO6qew"
      },
      "outputs": [],
      "source": [
        "def net(w, x): # no side effects!\n",
        "  return w @ x\n",
        "\n",
        "def eval_shape_net(x):\n",
        "  w = hk.get_parameter(\"w\", (3, 2), init=jnp.ones)\n",
        "  output_shape = jax.eval_shape(net, w, x) # net is now side-effect free\n",
        "  return output_shape, net(w, x)\n",
        "\n",
        "key = jax.random.PRNGKey(777)\n",
        "x = jnp.ones((2, 3))\n",
        "init, apply = hk.transform(eval_shape_net)\n",
        "params = init(key, x)\n",
        "apply(params, key, x)"
      ]
    },
    {
      "cell_type": "markdown",
      "metadata": {
        "id": "7JNOeVi6LoGB"
      },
      "source": [
        "However, that's not always possible! Consider the following code which calls a Haiku module (`hk.nets.MLP`) which is outside of our control. This module will internally call `get_parameter` and `next_rng_key`.\n",
        "\n"
      ]
    },
    {
      "cell_type": "code",
      "execution_count": null,
      "metadata": {
        "id": "PV9zxLacNBj-"
      },
      "outputs": [],
      "source": [
        "def eval_shape_net(x):\n",
        "  net = hk.nets.MLP([300, 100])\n",
        "  output_shape = jax.eval_shape(net, x)\n",
        "  return net(x)\n",
        "\n",
        "init, _ = hk.transform(eval_shape_net)\n",
        "try:\n",
        "  init(jax.random.PRNGKey(666), jnp.ones((2, 2)))\n",
        "except jax.errors.UnexpectedTracerError:\n",
        "  print(\"UnexpectedTracerError: applied JAX transform to side effecting function\")"
      ]
    },
    {
      "cell_type": "markdown",
      "metadata": {
        "id": "XbrXNir9L3I4"
      },
      "source": [
        "To work around this, Haiku provides wrapped versions of JAX transforms under the `haiku` namespace. You can access these as `hk.jit`, `hk.grad`, and so on. See https://dm-haiku.readthedocs.io/en/latest/api.html#jax-fundamentals for a full list of available functions. \n",
        "\n",
        "These wrappers apply the JAX function to a functionally pure version of the Haiku function, by doing the explicit state threading above for you."
      ]
    },
    {
      "cell_type": "code",
      "execution_count": null,
      "metadata": {
        "id": "pax2hQGh6vnJ"
      },
      "outputs": [],
      "source": [
        "def eval_shape_net(x):\n",
        "  net = hk.nets.MLP([300, 100])         # still side-effecting\n",
        "  output_shape = hk.eval_shape(net, x)  # hk.eval_shape threads through the Haiku state for you\n",
        "  out = net(x)                                                                                                                                    \n",
        "  return out, output_shape                                                                                                  \n",
        "                                                                                                                                                                        \n",
        "                                                                                                                                                                      \n",
        "init, apply = hk.transform(eval_shape_net)                                                                                                                  \n",
        "params = init(jax.random.PRNGKey(777), jnp.ones((100, 100)))\n",
        "apply(params, jax.random.PRNGKey(777), jnp.ones((100, 100)))"
      ]
    },
    {
      "cell_type": "markdown",
      "metadata": {
        "id": "XbNmQMGEBToO"
      },
      "source": [
        "Another option is to use `hk.experimental.lift`, which allows you to nest a `hk.transform` inside of an outer `hk.transform`. Lift registers any parameters initialized in the wrapped `init` into the outer Haiku module's scope. The nested transform means you have access to the implicit Haiku state, which allows you to be explicit about how that state is handled in the JAX transform."
      ]
    },
    {
      "cell_type": "code",
      "execution_count": null,
      "metadata": {
        "id": "NaGu9g8FyDeO"
      },
      "outputs": [],
      "source": [
        "def eval_shape_net(x):\n",
        "  net = hk.nets.MLP([300, 100])    # still side-effecting\n",
        "  init, apply = hk.transform(net)  # nested transform\n",
        "  params = hk.experimental.lift(init)(hk.next_rng_key(), x) # register parameters in outer module\n",
        "  output_shape = jax.eval_shape(apply, params, hk.next_rng_key(), x) # apply is a functionaly pure function!\n",
        "  out = net(x)                                                                                                                                    \n",
        "  return out, output_shape                                                                                                  \n",
        "                                                                                                                                                                        \n",
        "                                                                                                                                                                      \n",
        "init, apply = hk.transform(eval_shape_net)                                                                                                                  \n",
        "params = init(jax.random.PRNGKey(777), jnp.ones((100, 100)))\n",
        "apply(params, jax.random.PRNGKey(777), jnp.ones((100, 100)))"
      ]
    }
  ],
  "metadata": {
    "colab": {
      "collapsed_sections": [],
      "last_runtime": {
        "build_target": "//learning/deepmind/dm_python:dm_notebook3",
        "kind": "private"
      },
      "name": "Haiku Transforms",
      "provenance": [
        {
          "file_id": "1SYpfbVIs1_Fe3kgIZXfrQkVpSlKwjBsu",
          "timestamp": 1604473475829
        }
      ]
    },
    "kernelspec": {
      "display_name": "Python 3",
      "name": "python3"
    },
    "language_info": {
      "name": "python"
    }
  },
  "nbformat": 4,
  "nbformat_minor": 0
}
